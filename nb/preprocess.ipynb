{
 "cells": [
  {
   "cell_type": "code",
   "execution_count": 65,
   "metadata": {},
   "outputs": [],
   "source": [
    "import urllib.request, json \n",
    "import pandas as pd\n",
    "from pandas import json_normalize\n",
    "import boto3\n",
    "import os\n",
    "from dotenv import load_dotenv\n",
    "\n",
    "load_dotenv()\n",
    "\n",
    "ACCESS_ID = os.getenv('ACCESS_ID')\n",
    "SECRET_KEY = os.getenv('SECRET_KEY')\n",
    "\n",
    "\n",
    "\n",
    "#############################\n",
    "#load original data set\n",
    "#############################\n",
    "with urllib.request.urlopen(\"https://severin.fra1.digitaloceanspaces.com/hslu/RoadTrafficAccidentLocations.json\") as url:\n",
    "    data = json.load(url)\n",
    "\n",
    "\n",
    "#############################\n",
    "#prepocessing json file with pandas\n",
    "#############################\n",
    "df = json_normalize(data['features']) \n",
    "columns = ['geometry.coordinates',\n",
    "           'properties.AccidentType_de',\n",
    "           'properties.AccidentSeverityCategory_de',\n",
    "           'properties.AccidentInvolvingPedestrian',\n",
    "           'properties.AccidentInvolvingBicycle',\n",
    "           'properties.AccidentInvolvingMotorcycle',\n",
    "           'properties.RoadType_de',\n",
    "           'properties.CantonCode',\n",
    "           'properties.MunicipalityCode',\n",
    "           'properties.AccidentYear',\n",
    "           'properties.AccidentMonth',\n",
    "           'properties.AccidentHour',\n",
    "           'properties.AccidentWeekDay_en'\n",
    "                 ]\n",
    "\n",
    "df = df[columns]\n",
    "\n",
    "df.columns = df.columns.where(~df.columns.str.contains('\\.'), \n",
    "                               df.columns.str.split('.', n=1).str[1])\n",
    "\n",
    "df[[\"x_coordinates\",\"y_coordinates\"]] = df.coordinates.apply(lambda c: pd.Series([c[0], c[1]]))\n",
    "df = df.drop(columns=['coordinates'])\n",
    "df.to_json('RoadTrafficPreProcessed.json', orient='records')\n",
    "\n",
    "\n",
    "#############################\n",
    "#upload processed file to S3 bucket for direct public access\n",
    "#############################\n",
    "session = boto3.session.Session()\n",
    "client = session.client('s3',\n",
    "                        region_name='fra1',\n",
    "                        endpoint_url='https://fra1.digitaloceanspaces.com',\n",
    "                        aws_access_key_id=ACCESS_ID,\n",
    "                        aws_secret_access_key=SECRET_KEY)\n",
    "\n",
    "\n",
    "client.upload_file('RoadTrafficPreProcessed.json', 'severin', 'hslu/RoadTrafficPreProcessed.json', {\"ACL\": \"public-read\", \"ContentType\": \"application/json\"})"
   ]
  },
  {
   "cell_type": "code",
   "execution_count": null,
   "metadata": {},
   "outputs": [],
   "source": [
    "#############################\n",
    "#test file access\n",
    "#############################\n",
    "with urllib.request.urlopen(\"https://severin.fra1.digitaloceanspaces.com/hslu/RoadTrafficPreProcessed.json\") as url:\n",
    "    data = json.load(url)\n",
    "df = json_normalize(data) \n",
    "df"
   ]
  }
 ],
 "metadata": {
  "kernelspec": {
   "display_name": "Python 3.8.12 ('datascience')",
   "language": "python",
   "name": "python3"
  },
  "language_info": {
   "codemirror_mode": {
    "name": "ipython",
    "version": 3
   },
   "file_extension": ".py",
   "mimetype": "text/x-python",
   "name": "python",
   "nbconvert_exporter": "python",
   "pygments_lexer": "ipython3",
   "version": "3.8.12"
  },
  "orig_nbformat": 4,
  "vscode": {
   "interpreter": {
    "hash": "0ea01751cc290926817fddb9e320ce41db87aaea9629e2eb3c78212f1fd8ef6f"
   }
  }
 },
 "nbformat": 4,
 "nbformat_minor": 2
}
