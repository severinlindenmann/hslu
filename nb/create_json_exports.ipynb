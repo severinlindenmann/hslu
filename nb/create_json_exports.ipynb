{
 "cells": [
  {
   "cell_type": "code",
   "execution_count": 2,
   "metadata": {},
   "outputs": [],
   "source": [
    "from helpers import getPreprocessedFile, getS3File, uploadToS3\n",
    "import json\n",
    "import pandas as pd"
   ]
  },
  {
   "cell_type": "code",
   "execution_count": 236,
   "metadata": {},
   "outputs": [
    {
     "data": {
      "text/plain": [
       "'success'"
      ]
     },
     "execution_count": 236,
     "metadata": {},
     "output_type": "execute_result"
    }
   ],
   "source": [
    "#first export of json Year, Month and Count of Accidents\n",
    "filename = \"YearMonthCount.json\"\n",
    "df = getPreprocessedFile()\n",
    "df = df.groupby(['AccidentYear','AccidentMonth']).count().reset_index()[['AccidentYear','AccidentMonth','AccidentType_de']].rename(columns={'AccidentType_de' : 'count','AccidentYear' : 'Year','AccidentMonth' : 'Month'})\n",
    "df = df.astype('int32').sort_values(['Year','Month'])\n",
    "\n",
    "yearDict = {}\n",
    "for year in df['Year'].unique():\n",
    "    monthList = []\n",
    "    for index, row in df[df['Year'] == year].set_index('Month').drop(columns=['Year']).iterrows():\n",
    "        monthList.append(int(row))\n",
    "    # y = df[df['Year'] == year].set_index('Month').drop(columns=['Year']).to_dict(orient='index')\n",
    "    yearDict[int(year)] = monthList\n",
    "\n",
    "jsonData = json.dumps(yearDict)\n",
    "\n",
    "with open(filename, \"w\") as outfile:\n",
    "    outfile.write(jsonData)\n",
    "\n",
    "uploadToS3(filename)"
   ]
  },
  {
   "cell_type": "code",
   "execution_count": 2,
   "metadata": {},
   "outputs": [
    {
     "data": {
      "text/plain": [
       "'success'"
      ]
     },
     "execution_count": 2,
     "metadata": {},
     "output_type": "execute_result"
    }
   ],
   "source": [
    "#first export of json Year, Month and Count of Accidents\n",
    "filename = \"UnfallTypKantonYear.json\"\n",
    "df = getPreprocessedFile()\n",
    "# df = df.groupby(['AccidentYear','AccidentMonth']).count()\n",
    "# df = df.astype('int32').sort_values(['Year','Month'])\n",
    "df = df.groupby(['AccidentType_de','CantonCode']).count().reset_index()[['AccidentType_de','CantonCode','AccidentSeverityCategory_de']].rename(columns={'AccidentSeverityCategory_de': 'value','AccidentType_de': 'variable', 'CantonCode': 'group'})\n",
    "df['value'] = (round(1 + df['value'] / df['value'].max() * 99)).astype(int)\n",
    "df.to_json(filename,index=False, orient=\"table\")\n",
    "uploadToS3(filename)"
   ]
  },
  {
   "cell_type": "code",
   "execution_count": 7,
   "metadata": {},
   "outputs": [
    {
     "data": {
      "text/plain": [
       "'success'"
      ]
     },
     "execution_count": 7,
     "metadata": {},
     "output_type": "execute_result"
    }
   ],
   "source": [
    "#first export of json Year, Month and Count of Accidents\n",
    "filename = \"YearCords.json\"\n",
    "df = getPreprocessedFile()\n",
    "df[['x_coordinates','y_coordinates','AccidentYear','CantonCode','RoadType_de']].to_json(filename, orient=\"table\")\n",
    "# df = df.groupby(['AccidentType_de','CantonCode']).count().reset_index()[['AccidentType_de','CantonCode','AccidentSeverityCategory_de']].rename(columns={'AccidentSeverityCategory_de': 'value','AccidentType_de': 'variable', 'CantonCode': 'group'})\n",
    "# df['value'] = (round(1 + df['value'] / df['value'].max() * 99)).astype(int)\n",
    "# df.to_json(filename,index=False, orient=\"table\")\n",
    "uploadToS3(filename)"
   ]
  },
  {
   "cell_type": "code",
   "execution_count": 9,
   "metadata": {},
   "outputs": [
    {
     "data": {
      "text/plain": [
       "'success'"
      ]
     },
     "execution_count": 9,
     "metadata": {},
     "output_type": "execute_result"
    }
   ],
   "source": [
    "#first export of json Year, Month and Count of Accidents\n",
    "filename = \"AllData.json\"\n",
    "df = getPreprocessedFile()\n",
    "df.to_json(filename, orient=\"table\")\n",
    "# df = df.groupby(['AccidentType_de','CantonCode']).count().reset_index()[['AccidentType_de','CantonCode','AccidentSeverityCategory_de']].rename(columns={'AccidentSeverityCategory_de': 'value','AccidentType_de': 'variable', 'CantonCode': 'group'})\n",
    "# df['value'] = (round(1 + df['value'] / df['value'].max() * 99)).astype(int)\n",
    "# df.to_json(filename,index=False, orient=\"table\")\n",
    "uploadToS3(filename)"
   ]
  }
 ],
 "metadata": {
  "kernelspec": {
   "display_name": "Python 3.10.7 64-bit",
   "language": "python",
   "name": "python3"
  },
  "language_info": {
   "codemirror_mode": {
    "name": "ipython",
    "version": 3
   },
   "file_extension": ".py",
   "mimetype": "text/x-python",
   "name": "python",
   "nbconvert_exporter": "python",
   "pygments_lexer": "ipython3",
   "version": "3.10.7"
  },
  "orig_nbformat": 4,
  "vscode": {
   "interpreter": {
    "hash": "44a9cdcbdccbf05a880e90d2e6fe72470baab4d1b82472d890be0596ed887a6b"
   }
  }
 },
 "nbformat": 4,
 "nbformat_minor": 2
}
