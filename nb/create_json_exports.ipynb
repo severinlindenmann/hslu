{
 "cells": [
  {
   "cell_type": "code",
   "execution_count": 87,
   "metadata": {},
   "outputs": [],
   "source": [
    "from helpers import getPreprocessedFile, getS3File, uploadToS3\n",
    "import json"
   ]
  },
  {
   "cell_type": "code",
   "execution_count": 236,
   "metadata": {},
   "outputs": [
    {
     "data": {
      "text/plain": [
       "'success'"
      ]
     },
     "execution_count": 236,
     "metadata": {},
     "output_type": "execute_result"
    }
   ],
   "source": [
    "#first export of json Year, Month and Count of Accidents\n",
    "filename = \"YearMonthCount.json\"\n",
    "df = getPreprocessedFile()\n",
    "df = df.groupby(['AccidentYear','AccidentMonth']).count().reset_index()[['AccidentYear','AccidentMonth','AccidentType_de']].rename(columns={'AccidentType_de' : 'count','AccidentYear' : 'Year','AccidentMonth' : 'Month'})\n",
    "df = df.astype('int32').sort_values(['Year','Month'])\n",
    "\n",
    "yearDict = {}\n",
    "for year in df['Year'].unique():\n",
    "    monthList = []\n",
    "    for index, row in df[df['Year'] == year].set_index('Month').drop(columns=['Year']).iterrows():\n",
    "        monthList.append(int(row))\n",
    "    # y = df[df['Year'] == year].set_index('Month').drop(columns=['Year']).to_dict(orient='index')\n",
    "    yearDict[int(year)] = monthList\n",
    "\n",
    "jsonData = json.dumps(yearDict)\n",
    "\n",
    "with open(filename, \"w\") as outfile:\n",
    "    outfile.write(jsonData)\n",
    "\n",
    "uploadToS3(filename)"
   ]
  }
 ],
 "metadata": {
  "kernelspec": {
   "display_name": "Python 3.8.12 ('datascience')",
   "language": "python",
   "name": "python3"
  },
  "language_info": {
   "codemirror_mode": {
    "name": "ipython",
    "version": 3
   },
   "file_extension": ".py",
   "mimetype": "text/x-python",
   "name": "python",
   "nbconvert_exporter": "python",
   "pygments_lexer": "ipython3",
   "version": "3.8.12"
  },
  "orig_nbformat": 4,
  "vscode": {
   "interpreter": {
    "hash": "0ea01751cc290926817fddb9e320ce41db87aaea9629e2eb3c78212f1fd8ef6f"
   }
  }
 },
 "nbformat": 4,
 "nbformat_minor": 2
}
